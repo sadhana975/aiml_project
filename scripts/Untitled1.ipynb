{
 "cells": [
  {
   "cell_type": "code",
   "execution_count": 19,
   "id": "dd46f52b-d675-43ce-ad2c-b2ead21f333a",
   "metadata": {},
   "outputs": [
    {
     "name": "stdout",
     "output_type": "stream",
     "text": [
      "app.py created successfully!\n"
     ]
    }
   ],
   "source": [
    "import streamlit as st\n",
    "import pandas as pd\n",
    "import numpy as np\n",
    "import os\n",
    "\n",
    "# Save app.py code safely\n",
    "app_code = \"\"\"\n",
    "import streamlit as st\n",
    "import pandas as pd\n",
    "import numpy as np\n",
    "\n",
    "st.set_page_config(page_title=\"Credit Card Fraud Detection — Demo\", layout=\"wide\")\n",
    "\n",
    "st.title(\"Credit Card Fraud Detection — Demo\")\n",
    "st.write(\"Upload transactions CSV with columns: V1..V28, Time, Amount.\")\n",
    "\n",
    "uploaded = st.file_uploader(\"Upload CSV\", type=[\"csv\"])\n",
    "if uploaded is not None:\n",
    "    try:\n",
    "        df = pd.read_csv(uploaded)\n",
    "    except Exception as e:\n",
    "        st.error(f\"Could not read CSV: {e}\")\n",
    "        st.stop()\n",
    "\n",
    "    # Show all rows scrollable\n",
    "    st.subheader(\"Uploaded Data\")\n",
    "    st.dataframe(df, height=500)\n",
    "\n",
    "    # Create a copy for output\n",
    "    out_df = df.copy().reset_index(drop=True)\n",
    "\n",
    "    # Add dummy predictions for testing\n",
    "    out_df['probability_fraud'] = np.random.rand(len(out_df))\n",
    "    out_df['xgb_pred'] = (out_df['probability_fraud'] >= 0.5).astype(int)\n",
    "    out_df['isolation_anomaly'] = np.random.randint(0, 2, size=len(out_df))\n",
    "\n",
    "    st.subheader(\"Predictions\")\n",
    "    st.dataframe(out_df, height=500)\n",
    "\n",
    "    # Download button\n",
    "    csv = out_df.to_csv(index=False)\n",
    "    st.download_button(\"Download predictions CSV\", csv, file_name=\"predictions.csv\", mime=\"text/csv\")\n",
    "\n",
    "else:\n",
    "    st.info(\"Upload a CSV to see predictions.\")\n",
    "\"\"\"\n",
    "\n",
    "# Save as app.py in current folder\n",
    "with open(\"app.py\", \"w\", encoding=\"utf-8\") as f:\n",
    "    f.write(app_code)\n",
    "\n",
    "print(\"app.py created successfully!\")\n"
   ]
  },
  {
   "cell_type": "code",
   "execution_count": null,
   "id": "a0f3fae5-4ab1-4d85-a7fd-5c8d9d7635d8",
   "metadata": {},
   "outputs": [],
   "source": []
  }
 ],
 "metadata": {
  "kernelspec": {
   "display_name": "Python 3 (ipykernel)",
   "language": "python",
   "name": "python3"
  },
  "language_info": {
   "codemirror_mode": {
    "name": "ipython",
    "version": 3
   },
   "file_extension": ".py",
   "mimetype": "text/x-python",
   "name": "python",
   "nbconvert_exporter": "python",
   "pygments_lexer": "ipython3",
   "version": "3.12.7"
  }
 },
 "nbformat": 4,
 "nbformat_minor": 5
}
